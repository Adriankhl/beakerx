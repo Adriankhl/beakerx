{
 "cells": [
  {
   "cell_type": "markdown",
   "metadata": {},
   "source": [
    "# Clojure\n",
    "\n",
    "[Clojure](http://clojure.org/) is a dialect of Lisp that runs in the JVM.\n",
    "It shares with Lisp the code-as-data philosophy and a powerful macro system.\n",
    "Clojure is predominantly a functional programming language, and features a rich set of immutable, persistent data structures.\n",
    "It has strong support for reliable multithreading and concurrency."
   ]
  },
  {
   "cell_type": "code",
   "execution_count": null,
   "metadata": {},
   "outputs": [],
   "source": [
    "; lazy infinite sequence with recursive definition\n",
    "(def fib-seq-lazy \n",
    "  ((fn rfib [a b] \n",
    "     (lazy-seq (cons a (rfib b (+ a b)))))\n",
    "   0 1))\n",
    "(take 20 fib-seq-lazy)"
   ]
  },
  {
   "cell_type": "code",
   "execution_count": null,
   "metadata": {},
   "outputs": [],
   "source": [
    "; 'unless' cannot be defined with a function because\n",
    "; it does not always evaluate both its arguments.\n",
    "(defmacro unless [pred a b]\n",
    "  `(if (not ~pred) ~a ~b))\n",
    "(unless false (println \"Will print\") (println \"Will not print\"))"
   ]
  },
  {
   "cell_type": "code",
   "execution_count": null,
   "metadata": {},
   "outputs": [],
   "source": [
    "(defn run [nvecs nitems nthreads niters]\n",
    "  (let [vec-refs (vec (map (comp ref vec)\n",
    "                           (partition nitems (range (* nvecs nitems)))))\n",
    "        swap #(let [v1 (rand-int nvecs)\n",
    "                    v2 (rand-int nvecs)\n",
    "                    i1 (rand-int nitems)\n",
    "                    i2 (rand-int nitems)]\n",
    "                (dosync\n",
    "                 (let [temp (nth @(vec-refs v1) i1)]\n",
    "                   (alter (vec-refs v1) assoc i1 (nth @(vec-refs v2) i2))\n",
    "                   (alter (vec-refs v2) assoc i2 temp))))\n",
    "        report #(do.\n",
    "                 (prn (map deref vec-refs))\n",
    "                 (println \"Distinct:\"\n",
    "                          (count (distinct (apply concat (map deref vec-refs))))))]\n",
    "    (report)\n",
    "    (dorun (apply pcalls (repeat nthreads #(dotimes [_ niters] (swap)))))\n",
    "    (report)))\n",
    "; When run, we see no values get lost or duplicated in the shuffle.\n",
    "; There are 36 distinct numbers before and after. \n",
    "(run 6 6 6 100000)"
   ]
  },
  {
   "cell_type": "markdown",
   "metadata": {
    "collapsed": true
   },
   "source": [
    "## Using the classpath toload a jar\n",
    "\n",
    "This first cell shows that you get an error if you try to import a class not built-in to BeakerX:"
   ]
  },
  {
   "cell_type": "code",
   "execution_count": 1,
   "metadata": {},
   "outputs": [
    {
     "ename": "java.lang.ClassNotFoundException",
     "evalue": " com.beaker.BeakerXClasspathTest",
     "output_type": "error",
     "traceback": [
      "\u001b[0;31mjava.lang.ClassNotFoundException: com.beaker.BeakerXClasspathTest",
      "\u001b[0;31m\tat java.net.URLClassLoader.findClass(URLClassLoader.java:381)",
      "\u001b[0;31m\tat clojure.lang.DynamicClassLoader.findClass(DynamicClassLoader.java:69)",
      "\u001b[0;31m\tat java.lang.ClassLoader.loadClass(ClassLoader.java:424)",
      "\u001b[0;31m\tat clojure.lang.DynamicClassLoader.loadClass(DynamicClassLoader.java:77)",
      "\u001b[0;31m\tat java.lang.ClassLoader.loadClass(ClassLoader.java:357)",
      "\u001b[0;31m\tat java.lang.Class.forName0(Native Method)",
      "\u001b[0;31m\tat java.lang.Class.forName(Class.java:348)",
      "\u001b[0;31m\tat clojure.lang.RT.classForName(RT.java:2168)",
      "\u001b[0;31m\tat clojure.lang.RT.classForNameNonLoading(RT.java:2181)",
      "\u001b[0;31m\tat beaker_clojure_shell_b5a20c18_9e96_43d8_a1cd_2b079a459780$eval14.invokeStatic(Unknown Source)",
      "\u001b[0;31m\tat beaker_clojure_shell_b5a20c18_9e96_43d8_a1cd_2b079a459780$eval14.invoke(Unknown Source)",
      "\u001b[0;31m\tat clojure.lang.Compiler.eval(Compiler.java:6927)",
      "\u001b[0;31m\tat clojure.lang.Compiler.eval(Compiler.java:6917)",
      "\u001b[0;31m\tat clojure.lang.Compiler.load(Compiler.java:7379)",
      "\u001b[0;31m\tat clojure.lang.Compiler.load(Compiler.java:7326)",
      "\u001b[0;31m\tat clojure.core$load_reader.invokeStatic(core.clj:3957)",
      "\u001b[0;31m\tat clojure.core$load_string.invokeStatic(core.clj:3959)",
      "\u001b[0;31m\tat clojure.core$load_string.invoke(core.clj:3959)",
      "\u001b[0;31m\tat beaker_clojure_shell_b5a20c18_9e96_43d8_a1cd_2b079a459780$run_str_b5a20c18_9e96_43d8_a1cd_2b079a459780.invokeStatic(Unknown Source)",
      "\u001b[0;31m\tat beaker_clojure_shell_b5a20c18_9e96_43d8_a1cd_2b079a459780$run_str_b5a20c18_9e96_43d8_a1cd_2b079a459780.invoke(Unknown Source)",
      "\u001b[0;31m\tat clojure.lang.Var.invoke(Var.java:379)",
      "\u001b[0;31m\tat com.twosigma.beakerx.clojure.evaluator.ClojureEvaluator.runCode(ClojureEvaluator.java:116)",
      "\u001b[0;31m\tat com.twosigma.beakerx.clojure.evaluator.ClojureCodeRunner.run(ClojureCodeRunner.java:47)",
      "\u001b[0;31m\tat java.util.concurrent.Executors$RunnableAdapter.call(Executors.java:511)",
      "\u001b[0;31m\tat java.util.concurrent.FutureTask.run(FutureTask.java:266)",
      "\u001b[0;31m\tat java.util.concurrent.ThreadPoolExecutor.runWorker(ThreadPoolExecutor.java:1142)",
      "\u001b[0;31m\tat java.util.concurrent.ThreadPoolExecutor$Worker.run(ThreadPoolExecutor.java:617)",
      "\u001b[0;31m\tat java.lang.Thread.run(Thread.java:745)"
     ]
    }
   ],
   "source": [
    "(import com.beaker.BeakerXClasspathTest)\n",
    "(def classpathTest (new BeakerXClasspathTest))"
   ]
  },
  {
   "cell_type": "markdown",
   "metadata": {},
   "source": [
    "The magic `%classpath` allows you to add jars to your kernel."
   ]
  },
  {
   "cell_type": "code",
   "execution_count": 2,
   "metadata": {},
   "outputs": [
    {
     "name": "stdout",
     "output_type": "stream",
     "text": [
      "Added jar: [BeakerXClasspathTest.jar]\n"
     ]
    }
   ],
   "source": [
    "%classpath add jar demoResources/BeakerXClasspathTest.jar"
   ]
  },
  {
   "cell_type": "code",
   "execution_count": 3,
   "metadata": {},
   "outputs": [
    {
     "data": {
      "text/plain": [
       "#'beaker_clojure_shell_b5a20c18-9e96-43d8-a1cd-2b079a459780/classpathTest"
      ]
     },
     "execution_count": 3,
     "metadata": {},
     "output_type": "execute_result"
    }
   ],
   "source": [
    "(import com.beaker.BeakerXClasspathTest)\n",
    "(def classpathTest (new BeakerXClasspathTest))"
   ]
  },
  {
   "cell_type": "code",
   "execution_count": 4,
   "metadata": {},
   "outputs": [
    {
     "data": {
      "text/plain": [
       "static_123"
      ]
     },
     "execution_count": 4,
     "metadata": {},
     "output_type": "execute_result"
    }
   ],
   "source": [
    "(BeakerXClasspathTest/staticTest)"
   ]
  },
  {
   "cell_type": "code",
   "execution_count": 5,
   "metadata": {},
   "outputs": [
    {
     "data": {
      "text/plain": [
       "object_123"
      ]
     },
     "execution_count": 5,
     "metadata": {},
     "output_type": "execute_result"
    }
   ],
   "source": [
    "(. classpathTest getObjectTest)"
   ]
  },
  {
   "cell_type": "code",
   "execution_count": null,
   "metadata": {
    "collapsed": true
   },
   "outputs": [],
   "source": []
  }
 ],
 "metadata": {
  "beakerx_kernel_parameters": {},
  "kernelspec": {
   "display_name": "Clojure",
   "language": "clojure",
   "name": "clojure"
  },
  "language_info": {
   "codemirror_mode": "Clojure",
   "file_extension": ".clj",
   "mimetype": "text/x-clojure",
   "name": "Clojure",
   "nbconverter_exporter": "",
   "version": "1.7"
  }
 },
 "nbformat": 4,
 "nbformat_minor": 2
}
