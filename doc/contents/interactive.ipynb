{
 "cells": [
  {
   "cell_type": "markdown",
   "metadata": {},
   "source": [
    "# Using `Interact` With Widgets\n",
    "\n",
    "The widgets work with the [interact API](http://ipywidgets.readthedocs.io/en/latest/examples/Using%20Interact.html), so that a cell can be recomputed as the widgets change value.  This API is slated for improvement see [#5867](https://github.com/twosigma/beakerx/issues/5867)."
   ]
  },
  {
   "cell_type": "code",
   "execution_count": null,
   "metadata": {
    "collapsed": true
   },
   "outputs": [],
   "source": [
    "%import static com.twosigma.beakerx.groovy.widgets.Interactive.interact"
   ]
  },
  {
   "cell_type": "code",
   "execution_count": null,
   "metadata": {},
   "outputs": [],
   "source": [
    "class PlotHolder{\n",
    "    static Plot plot = null;\n",
    "}\n",
    "\n",
    "public static Object f(x){\n",
    "    if(PlotHolder.plot == null) {\n",
    "      PlotHolder.plot = new Plot(title: x)\n",
    "    }\n",
    "    PlotHolder.plot.title = x\n",
    "    return PlotHolder.plot;\n",
    "}\n",
    "\n",
    "interact(this.&f, \"s\");"
   ]
  },
  {
   "cell_type": "code",
   "execution_count": null,
   "metadata": {},
   "outputs": [],
   "source": [
    "public Object f(x){\n",
    "    return x + \" ABC\";\n",
    "}\n",
    "\n",
    "interact(this.&f, \"F\");"
   ]
  },
  {
   "cell_type": "code",
   "execution_count": null,
   "metadata": {},
   "outputs": [],
   "source": [
    "public Object f(x){\n",
    "    return x + 2;\n",
    "}\n",
    "\n",
    "interact(this.&f, 10d);"
   ]
  },
  {
   "cell_type": "code",
   "execution_count": null,
   "metadata": {},
   "outputs": [],
   "source": [
    "public Object f(x){\n",
    "    return x + 2;\n",
    "}\n",
    "\n",
    "interact(this.&f, 10);"
   ]
  },
  {
   "cell_type": "code",
   "execution_count": null,
   "metadata": {},
   "outputs": [],
   "source": [
    "public Object f(x){\n",
    "    return !x;\n",
    "}\n",
    "\n",
    "interact(this.&f, true);"
   ]
  },
  {
   "cell_type": "code",
   "execution_count": null,
   "metadata": {},
   "outputs": [],
   "source": [
    "public Object f(x, y){\n",
    "    return [x + 2, y + 4];\n",
    "}\n",
    "\n",
    "interact(this.&f, 10, 100);"
   ]
  },
  {
   "cell_type": "code",
   "execution_count": null,
   "metadata": {},
   "outputs": [],
   "source": [
    "public Object d(x, y){\n",
    "    return [x + 2, \"abc \" + y];\n",
    "}\n",
    "\n",
    "interact(this.&d, 10, \"0\");"
   ]
  },
  {
   "cell_type": "code",
   "execution_count": null,
   "metadata": {},
   "outputs": [],
   "source": [
    "class PlotHolder{\n",
    "    static String text = \"\"\n",
    "    static Plot plot = null;\n",
    "}\n",
    "\n",
    "public static Object f(x){\n",
    "    PlotHolder.text = x;\n",
    "    if(PlotHolder.plot != null){\n",
    "        PlotHolder.plot.close();\n",
    "    }\n",
    "    PlotHolder.plot = new Plot(title: PlotHolder.text)\n",
    "    PlotHolder.plot.display()\n",
    "    PlotHolder.text\n",
    "}\n",
    "\n",
    "interact(this.&f, \"s\");"
   ]
  },
  {
   "cell_type": "code",
   "execution_count": null,
   "metadata": {},
   "outputs": [],
   "source": [
    "public Object f(x){\n",
    "    println \"Hello World !!!\"\n",
    "    return x\n",
    "}\n",
    "\n",
    "interact(this.&f, \"s\");"
   ]
  },
  {
   "cell_type": "markdown",
   "metadata": {},
   "source": [
    "## Interactive plot flashes [#5871](https://github.com/twosigma/beakerx/issues/5871)."
   ]
  },
  {
   "cell_type": "code",
   "execution_count": null,
   "metadata": {},
   "outputs": [],
   "source": [
    "class DataHolder{\n",
    "    static Plot plot = null;\n",
    "}\n",
    "\n",
    "public static Object f(num){\n",
    "    if(DataHolder.plot != null){\n",
    "        DataHolder.plot.close();\n",
    "    }\n",
    "    \n",
    "    List x = [0, 10]\n",
    "    List y = [4, num]\n",
    "    DataHolder.plot = new Plot().add(new Line(x, y))\n",
    "    DataHolder.plot.display()\n",
    "    num\n",
    "}\n",
    "\n",
    "interact(this.&f, 4);\n"
   ]
  },
  {
   "cell_type": "code",
   "execution_count": null,
   "metadata": {},
   "outputs": [],
   "source": [
    "class DataHolder{\n",
    "    static Plot plot = null;\n",
    "}\n",
    "\n",
    "public static Object f(x1,x2,y1,y2){\n",
    "    if(DataHolder.plot != null){\n",
    "        DataHolder.plot.close();\n",
    "    }\n",
    "    \n",
    "    List x = [x1, x2]\n",
    "    List y = [y1, y2]\n",
    "    DataHolder.plot = new Plot().add(new Line(x, y))\n",
    "    DataHolder.plot.display()\n",
    "    \"x = \" + x +\" y = \" + y\n",
    "}\n",
    "\n",
    "interact(this.&f, 0, 10, 4, 4);\n"
   ]
  },
  {
   "cell_type": "code",
   "execution_count": null,
   "metadata": {},
   "outputs": [],
   "source": [
    "class DataHolder{\n",
    "    static Plot plot = null;\n",
    "}\n",
    "\n",
    "public static Object f(x1,x2,y1,y2){\n",
    "    if(DataHolder.plot == null){\n",
    "        DataHolder.plot = new Plot()\n",
    "    }\n",
    "    List x = [x1, x2]\n",
    "    List y = [y1, y2]\n",
    "    DataHolder.plot.getGraphics().clear()\n",
    "    DataHolder.plot.add(new Line(x, y))\n",
    "    DataHolder.plot.display()\n",
    "    \"x = \" + x +\" y = \" + y\n",
    "}\n",
    "\n",
    "interact(this.&f, 0, 10, 4, 4);"
   ]
  },
  {
   "cell_type": "code",
   "execution_count": null,
   "metadata": {},
   "outputs": [],
   "source": [
    "class DataHolder{\n",
    "    static Plot plot = null;\n",
    "}\n",
    "\n",
    "public static Object f(a,b,c,d){\n",
    "    if (DataHolder.plot == null){\n",
    "        DataHolder.plot = new Plot()\n",
    "    }\n",
    "\n",
    "    List y = ((a..b) + (c..d)) \n",
    "    \n",
    "    DataHolder.plot.getGraphics().clear()\n",
    "    DataHolder.plot.add(new Line(y))\n",
    "    return DataHolder.plot \n",
    "}\n",
    "\n",
    "interact(this.&f, 5, 15, 4, 4);"
   ]
  },
  {
   "cell_type": "code",
   "execution_count": null,
   "metadata": {},
   "outputs": [],
   "source": [
    "(1..25) + (1..30)"
   ]
  },
  {
   "cell_type": "code",
   "execution_count": null,
   "metadata": {
    "collapsed": true
   },
   "outputs": [],
   "source": []
  }
 ],
 "metadata": {
  "beakerx_kernel_parameters": {},
  "kernelspec": {
   "display_name": "Groovy",
   "language": "groovy",
   "name": "groovy"
  },
  "language_info": {
   "codemirror_mode": "groovy",
   "file_extension": ".groovy",
   "mimetype": "",
   "name": "Groovy",
   "nbconverter_exporter": "",
   "version": "2.4.3"
  },
  "widgets": {
   "state": {
    "8e031bec-8956-4228-9da0-77339eee6003": {
     "views": [
      {
       "cell_index": 0
      }
     ]
    }
   },
   "version": "1.2.0"
  }
 },
 "nbformat": 4,
 "nbformat_minor": 2
}
