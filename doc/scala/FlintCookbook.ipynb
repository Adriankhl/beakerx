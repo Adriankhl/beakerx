{
 "cells": [
  {
   "cell_type": "markdown",
   "metadata": {},
   "source": [
    "# Flint Cookbook with Spark UI"
   ]
  },
  {
   "cell_type": "code",
   "execution_count": 1,
   "metadata": {},
   "outputs": [
    {
     "name": "stdout",
     "output_type": "stream",
     "text": [
      "Added new repo: jitpack.io\n"
     ]
    }
   ],
   "source": [
    "%classpath config resolver jitpack.io https://jitpack.io"
   ]
  },
  {
   "cell_type": "code",
   "execution_count": 2,
   "metadata": {},
   "outputs": [
    {
     "data": {
      "application/vnd.jupyter.widget-view+json": {
       "model_id": "4c04b3fc-b943-4645-8489-2ac83148b4d3",
       "version_major": 2,
       "version_minor": 0
      },
      "method": "display_data"
     },
     "metadata": {},
     "output_type": "display_data"
    },
    {
     "name": "stdout",
     "output_type": "stream",
     "text": [
      "Added jars: [jcl-over-slf4j-1.7.16.jar, jersey-container-servlet-core-2.22.2.jar, spark-launcher_2.11-2.2.1.jar, aopalliance-repackaged-2.4.0-b34.jar, activation-1.1.1.jar, shapeless_2.11-2.3.2.jar, curator-framework-2.6.0.jar, hadoop-mapreduce-client-jobclient-2.6.5.jar, hadoop-yarn-api-2.6.5.jar, xercesImpl-2.9.1.jar, xbean-asm5-shaded-4.4.jar, spark-streaming_2.11-2.2.1.jar, hadoop-yarn-server-common-2.6.5.jar, hadoop-mapreduce-client-common-2.6.5.jar, commons-compress-1.4.1.jar, spire_2.11-0.13.0.jar, java-xmlbuilder-1.0.jar, jetty-util-6.1.26.jar, parquet-format-2.3.1.jar, xmlenc-0.52.jar, parquet-hadoop-1.8.2.jar, validation-api-1.1.0.Final.jar, commons-io-2.4.jar, breeze-macros_2.11-0.13.2.jar, univocity-parsers-2.2.1.jar, pmml-model-1.2.15.jar, play-json_2.11-2.3.10.jar, slf4j-log4j12-1.7.16.jar, core-1.1.2.jar, commons-net-2.2.jar, hadoop-mapreduce-client-core-2.6.5.jar, commons-lang-2.6.jar, avro-ipc-1.7.7.jar, metrics-json-3.1.2.jar, jackson-databind-2.6.5.jar, janino-3.0.0.jar, netty-all-4.0.43.Final.jar, spark-network-common_2.11-2.2.1.jar, scalap-2.11.0.jar, scala-parser-combinators_2.11-1.0.1.jar, spire-macros_2.11-0.13.0.jar, spark-sql_2.11-2.2.1.jar, xml-apis-1.3.04.jar, httpclient-4.3.2.jar, curator-recipes-2.6.0.jar, hadoop-hdfs-2.6.5.jar, spark-mllib-local_2.11-2.2.1.jar, commons-lang3-3.5.jar, curator-client-2.6.0.jar, spark-core_2.11-2.2.1.jar, play-functional_2.11-2.3.10.jar, parquet-common-1.8.2.jar, log4j-1.2.17.jar, mail-1.4.7.jar, oro-2.0.8.jar, jersey-client-2.22.2.jar, jaxb-api-2.2.2.jar, mx4j-3.0.2.jar, paranamer-2.3.jar, commons-cli-1.2.jar, jackson-module-paranamer-2.6.5.jar, javax.servlet-api-3.1.0.jar, joda-time-2.9.4.jar, scala-reflect-2.11.1.jar, objenesis-2.1.jar, hadoop-yarn-client-2.6.5.jar, json4s-core_2.11-3.2.11.jar, guava-16.0.1.jar, spark-mllib_2.11-2.2.1.jar, play-iteratees_2.11-2.3.10.jar, apacheds-i18n-2.0.0-M15.jar, commons-codec-1.6.jar, avro-mapred-1.7.7-hadoop2.jar, commons-beanutils-core-1.8.0.jar, antlr4-runtime-4.5.3.jar, scala-library-2.11.8.jar, flint-master-6055a7a231-1.jar, hadoop-client-2.6.5.jar, jets3t-0.9.3.jar, javassist-3.18.1-GA.jar, commons-collections-3.2.2.jar, jackson-mapper-asl-1.9.11.jar, leveldbjni-all-1.8.jar, config-1.2.1.jar, RoaringBitmap-0.5.11.jar, slf4j-api-1.7.7.jar, spark-catalyst_2.11-2.2.1.jar, javax.annotation-api-1.2.jar, compress-lzf-1.0.3.jar, hk2-locator-2.4.0-b34.jar, macro-compat_2.11-1.1.1.jar, jackson-jaxrs-1.9.13.jar, jackson-annotations-2.3.2.jar, hk2-utils-2.4.0-b34.jar, minlog-1.3.0.jar, jackson-module-scala_2.11-2.6.5.jar, jul-to-slf4j-1.7.16.jar, chill_2.11-0.8.0.jar, hadoop-mapreduce-client-shuffle-2.6.5.jar, api-util-1.0.0-M20.jar, jackson-xc-1.9.13.jar, pyrolite-4.13.jar, scala-stm_2.11-0.7.jar, breeze_2.11-0.13.2.jar, spark-tags_2.11-2.2.1.jar, commons-logging-1.1.3.jar, lz4-1.3.0.jar, pmml-schema-1.2.15.jar, kryo-shaded-3.0.3.jar, spark-sketch_2.11-2.2.1.jar, jersey-guava-2.22.2.jar, commons-httpclient-3.1.jar, ivy-2.4.0.jar, zookeeper-3.4.6.jar, arpack_combined_all-0.1.jar, scala-xml_2.11-1.0.1.jar, hadoop-mapreduce-client-app-2.6.5.jar, commons-beanutils-1.7.0.jar, api-asn1-api-1.0.0-M20.jar, chill-java-0.8.0.jar, json4s-ast_2.11-3.2.11.jar, commons-digester-1.8.jar, apacheds-kerberos-codec-2.0.0-M15.jar, json4s-jackson_2.11-3.2.11.jar, javax.inject-2.4.0-b34.jar, xz-1.0.jar, commons-crypto-1.0.0.jar, jsr305-1.3.9.jar, play-datacommons_2.11-2.3.10.jar, unused-1.0.0.jar, commons-configuration-1.6.jar, jackson-core-asl-1.9.11.jar, jtransforms-2.4.0.jar, py4j-0.10.4.jar, base64-2.3.8.jar, parquet-jackson-1.8.2.jar, jersey-server-2.22.2.jar, snappy-java-1.1.2.6.jar, parquet-encoding-1.8.2.jar, scala-compiler-2.11.0.jar, jersey-container-servlet-2.22.2.jar, hk2-api-2.4.0-b34.jar, avro-1.7.7.jar, jersey-common-2.22.2.jar, spark-graphx_2.11-2.2.1.jar, metrics-graphite-3.1.2.jar, jersey-media-jaxb-2.22.2.jar, metrics-core-3.1.2.jar, gson-2.2.4.jar, stream-2.7.0.jar, osgi-resource-locator-1.0.1.jar, httpcore-4.3.1.jar, hadoop-annotations-2.6.5.jar, netty-3.9.9.Final.jar, commons-compiler-3.0.0.jar, bcprov-jdk15on-1.51.jar, jackson-core-2.3.2.jar, javax.ws.rs-api-2.0.1.jar, parquet-column-1.8.2.jar, spark-network-shuffle_2.11-2.2.1.jar, grizzled-slf4j_2.11-1.3.0.jar, stax-api-1.0-2.jar, machinist_2.11-0.6.1.jar, hadoop-yarn-common-2.6.5.jar, hadoop-common-2.6.5.jar, joda-convert-1.6.jar, avro-ipc-1.7.7-tests.jar, metrics-jvm-3.1.2.jar, opencsv-2.3.jar, protobuf-java-2.5.0.jar, commons-math3-3.5.jar, hadoop-auth-2.6.5.jar, htrace-core-3.0.4.jar, spark-unsafe_2.11-2.2.1.jar]\n"
     ]
    }
   ],
   "source": [
    "%%classpath add mvn\n",
    "com.github.twosigma flint master-SNAPSHOT\n",
    "org.apache.spark spark-sql_2.11 2.2.1\n",
    "org.apache.spark spark-mllib_2.11 2.2.1"
   ]
  },
  {
   "cell_type": "code",
   "execution_count": 3,
   "metadata": {},
   "outputs": [
    {
     "data": {
      "text/plain": [
       "20160101"
      ]
     },
     "execution_count": 3,
     "metadata": {},
     "output_type": "execute_result"
    }
   ],
   "source": [
    "val begin = \"20150101\"\n",
    "val end   = \"20160101\""
   ]
  },
  {
   "cell_type": "code",
   "execution_count": 4,
   "metadata": {},
   "outputs": [
    {
     "data": {
      "application/vnd.jupyter.widget-view+json": {
       "model_id": "c696b6f3-f64d-47c2-9dc3-4ed9c87fa45b",
       "version_major": 2,
       "version_minor": 0
      },
      "method": "display_data"
     },
     "metadata": {},
     "output_type": "display_data"
    }
   ],
   "source": [
    "%%spark\n",
    "import org.apache.spark.sql.SparkSession\n",
    "\n",
    "SparkSession.builder().appName(\"Simple Application\").master(\"local[100]\")"
   ]
  },
  {
   "cell_type": "code",
   "execution_count": 5,
   "metadata": {},
   "outputs": [
    {
     "data": {
      "text/plain": [
       "org.apache.spark.SparkContext@3a4bb56f"
      ]
     },
     "execution_count": 5,
     "metadata": {},
     "output_type": "execute_result"
    }
   ],
   "source": [
    "val sc = spark.sparkContext"
   ]
  },
  {
   "cell_type": "code",
   "execution_count": 6,
   "metadata": {},
   "outputs": [
    {
     "data": {
      "text/plain": [
       "import org.apache.spark.sql.types._\n",
       "import org.apache.spark.sql.Row\n",
       "import com.twosigma.flint.timeseries.Windows\n",
       "import com.twosigma.flint.timeseries.Summarizers\n",
       "import scala.concurrent.duration._\n",
       "import com.twosigma.flint.timeseries._\n"
      ]
     },
     "execution_count": 6,
     "metadata": {},
     "output_type": "execute_result"
    }
   ],
   "source": [
    "import org.apache.spark.sql.types._\n",
    "import org.apache.spark.sql.Row\n",
    "//import com.twosigma.flint.timeseries.io.read\n",
    "import com.twosigma.flint.timeseries.Windows\n",
    "import com.twosigma.flint.timeseries.Summarizers\n",
    "import scala.concurrent.duration._\n",
    "//import com.twosigma.flint.timeseries.implicits._\n",
    "import com.twosigma.flint.timeseries._"
   ]
  },
  {
   "cell_type": "code",
   "execution_count": 7,
   "metadata": {},
   "outputs": [
    {
     "data": {
      "text/plain": [
       "preview: (tsRdd: com.twosigma.flint.timeseries.TimeSeriesRDD, num: Integer)com.twosigma.beakerx.scala.table.TableDisplay\n"
      ]
     },
     "execution_count": 7,
     "metadata": {},
     "output_type": "execute_result"
    }
   ],
   "source": [
    "def preview(tsRdd: TimeSeriesRDD, num: Integer = 5) : TableDisplay = {\n",
    "    val cols = tsRdd.schema.fieldNames\n",
    "    val rows = tsRdd.toDF.take(num)\n",
    "    val listOfMaps = rows.map {r => (cols zip r.toSeq).toMap}\n",
    "    val display = new TableDisplay(listOfMaps)\n",
    "    return display\n",
    "}"
   ]
  },
  {
   "cell_type": "markdown",
   "metadata": {},
   "source": [
    "## Read Local Files"
   ]
  },
  {
   "cell_type": "code",
   "execution_count": 31,
   "metadata": {},
   "outputs": [
    {
     "data": {
      "application/vnd.jupyter.widget-view+json": {
       "model_id": "0ee5f32a-518f-4fa2-ac5c-3816d516262b",
       "version_major": 2,
       "version_minor": 0
      },
      "method": "display_data"
     },
     "metadata": {},
     "output_type": "display_data"
    },
    {
     "data": {
      "application/vnd.jupyter.widget-view+json": {
       "model_id": "1dad14b9-2ffa-417e-ada3-210b8ae2b0b7",
       "version_major": 2,
       "version_minor": 0
      },
      "method": "display_data"
     },
     "metadata": {},
     "output_type": "display_data"
    },
    {
     "data": {
      "application/vnd.jupyter.widget-view+json": {
       "model_id": "9de083fd-8c29-4f7f-87d1-292079496013",
       "version_major": 2,
       "version_minor": 0
      },
      "method": "display_data"
     },
     "metadata": {},
     "output_type": "display_data"
    },
    {
     "data": {
      "application/vnd.jupyter.widget-view+json": {
       "model_id": "e8a7bf13-9415-46d3-83de-476831ea01d5",
       "version_major": 2,
       "version_minor": 0
      },
      "method": "display_data"
     },
     "metadata": {},
     "output_type": "display_data"
    },
    {
     "data": {
      "application/vnd.jupyter.widget-view+json": {
       "model_id": "6f0f3257-b45f-4b88-be1c-afb9b53fcf7f",
       "version_major": 2,
       "version_minor": 0
      },
      "method": "display_data"
     },
     "metadata": {},
     "output_type": "display_data"
    },
    {
     "data": {
      "application/vnd.jupyter.widget-view+json": {
       "model_id": "e8401eea-b163-4b40-b88f-32ea6de7e05e",
       "version_major": 2,
       "version_minor": 0
      },
      "method": "display_data"
     },
     "metadata": {},
     "output_type": "display_data"
    },
    {
     "data": {
      "application/vnd.jupyter.widget-view+json": {
       "model_id": "fd0739b4-a026-439e-a74e-0547991b88ef",
       "version_major": 2,
       "version_minor": 0
      },
      "method": "display_data"
     },
     "metadata": {},
     "output_type": "display_data"
    }
   ],
   "source": [
    "import com.twosigma.flint.timeseries.CSV\n",
    "\n",
    "//Load prices.csv from https://www.kaggle.com/dgawlik/nyse\n",
    "\n",
    "//Creates a TimeSeriesRDD from a CSV file\n",
    "var pricesRdd = CSV.from(\n",
    "  spark.sqlContext,\n",
    "  \"file:///Users/spot/src/beakerx/nyse/prices.csv\",\n",
    "  header = true,\n",
    "  timeColumnName = \"date\",  \n",
    "  dateFormat = \"dd/MM/yyyy HH:mm\",\n",
    "  sorted = false\n",
    ")\n",
    "preview(pricesRdd)"
   ]
  },
  {
   "cell_type": "markdown",
   "metadata": {},
   "source": [
    "## Basic Operations"
   ]
  },
  {
   "cell_type": "code",
   "execution_count": 9,
   "metadata": {},
   "outputs": [
    {
     "data": {
      "application/vnd.jupyter.widget-view+json": {
       "model_id": "1f7a675c-281b-44a0-ab3a-4068b8c3d1dd",
       "version_major": 2,
       "version_minor": 0
      },
      "method": "display_data"
     },
     "metadata": {},
     "output_type": "display_data"
    },
    {
     "data": {
      "application/vnd.jupyter.widget-view+json": {
       "model_id": "fb0a4376-8aa9-4962-a560-8b8281dabdcc",
       "version_major": 2,
       "version_minor": 0
      },
      "method": "display_data"
     },
     "metadata": {},
     "output_type": "display_data"
    }
   ],
   "source": [
    "val priceAsInteger = pricesRdd.cast(\"close\" -> IntegerType)\n",
    "preview(priceAsInteger)"
   ]
  },
  {
   "cell_type": "code",
   "execution_count": 10,
   "metadata": {},
   "outputs": [
    {
     "data": {
      "application/vnd.jupyter.widget-view+json": {
       "model_id": "dfa6c18c-2e70-4458-b85f-3c6f14f668f3",
       "version_major": 2,
       "version_minor": 0
      },
      "method": "display_data"
     },
     "metadata": {},
     "output_type": "display_data"
    },
    {
     "data": {
      "application/vnd.jupyter.widget-view+json": {
       "model_id": "c30b5c74-3431-4e40-a347-1958715ef244",
       "version_major": 2,
       "version_minor": 0
      },
      "method": "display_data"
     },
     "metadata": {},
     "output_type": "display_data"
    }
   ],
   "source": [
    "val filteredRowsByPrice = pricesRdd.keepRows { row: Row => row.getAs[Double](\"low\") > 4.0 }\n",
    "preview(filteredRowsByPrice)"
   ]
  },
  {
   "cell_type": "code",
   "execution_count": 11,
   "metadata": {},
   "outputs": [
    {
     "data": {
      "application/vnd.jupyter.widget-view+json": {
       "model_id": "3bbceafd-f262-4d07-ab88-b34da731b0bc",
       "version_major": 2,
       "version_minor": 0
      },
      "method": "display_data"
     },
     "metadata": {},
     "output_type": "display_data"
    },
    {
     "data": {
      "application/vnd.jupyter.widget-view+json": {
       "model_id": "a3ab27a7-aef7-48fd-9daa-6c410ed3c426",
       "version_major": 2,
       "version_minor": 0
      },
      "method": "display_data"
     },
     "metadata": {},
     "output_type": "display_data"
    }
   ],
   "source": [
    "val timeColumnOnly = pricesRdd.keepColumns(\"time\")\n",
    "preview(timeColumnOnly)"
   ]
  },
  {
   "cell_type": "code",
   "execution_count": 12,
   "metadata": {},
   "outputs": [
    {
     "data": {
      "application/vnd.jupyter.widget-view+json": {
       "model_id": "17c79c44-c618-4e2b-a26e-4ad7ad8a2274",
       "version_major": 2,
       "version_minor": 0
      },
      "method": "display_data"
     },
     "metadata": {},
     "output_type": "display_data"
    },
    {
     "data": {
      "application/vnd.jupyter.widget-view+json": {
       "model_id": "3d421013-7ec1-4ac3-bbc7-5fa70f833cb1",
       "version_major": 2,
       "version_minor": 0
      },
      "method": "display_data"
     },
     "metadata": {},
     "output_type": "display_data"
    }
   ],
   "source": [
    "val withoutIdColumn = pricesRdd.deleteColumns(\"symbol\")\n",
    "preview(withoutIdColumn)"
   ]
  },
  {
   "cell_type": "code",
   "execution_count": 13,
   "metadata": {},
   "outputs": [
    {
     "data": {
      "application/vnd.jupyter.widget-view+json": {
       "model_id": "8ab6a91a-a372-4f05-87c9-302cc3c9c2c2",
       "version_major": 2,
       "version_minor": 0
      },
      "method": "display_data"
     },
     "metadata": {},
     "output_type": "display_data"
    },
    {
     "data": {
      "application/vnd.jupyter.widget-view+json": {
       "model_id": "2a24c94d-cc92-426f-8ca9-5914fec7a0df",
       "version_major": 2,
       "version_minor": 0
      },
      "method": "display_data"
     },
     "metadata": {},
     "output_type": "display_data"
    }
   ],
   "source": [
    "val renamedColumns = pricesRdd.renameColumns(\"symbol\" -> \"ticker\", \"low\" -> \"lowPrice\", \"open\" -> \"openPrice\", \"close\" -> \"closePrice\", \"high\" -> \"highPrice\")\n",
    "preview(renamedColumns)"
   ]
  },
  {
   "cell_type": "markdown",
   "metadata": {},
   "source": [
    "## Basic arithmetic on each row"
   ]
  },
  {
   "cell_type": "code",
   "execution_count": 14,
   "metadata": {},
   "outputs": [
    {
     "data": {
      "application/vnd.jupyter.widget-view+json": {
       "model_id": "c166183a-abc4-4ea3-9494-ebce72d854a2",
       "version_major": 2,
       "version_minor": 0
      },
      "method": "display_data"
     },
     "metadata": {},
     "output_type": "display_data"
    },
    {
     "data": {
      "application/vnd.jupyter.widget-view+json": {
       "model_id": "03832c73-aa32-4ee5-9508-abaa959feb90",
       "version_major": 2,
       "version_minor": 0
      },
      "method": "display_data"
     },
     "metadata": {},
     "output_type": "display_data"
    }
   ],
   "source": [
    "// Calculate logarithm of a column\n",
    "val logVolumeRdd = pricesRdd.addColumns(\"logVolume\" -> DoubleType -> { row => Math.log(row.getAs[Double](\"volume\")) })\n",
    "preview(pricesRdd)"
   ]
  },
  {
   "cell_type": "code",
   "execution_count": 15,
   "metadata": {},
   "outputs": [
    {
     "data": {
      "application/vnd.jupyter.widget-view+json": {
       "model_id": "20c4f707-03e8-458e-b8b7-9b7a4c0c1326",
       "version_major": 2,
       "version_minor": 0
      },
      "method": "display_data"
     },
     "metadata": {},
     "output_type": "display_data"
    },
    {
     "data": {
      "application/vnd.jupyter.widget-view+json": {
       "model_id": "a0c60d34-83ac-4608-98d0-c3902c737891",
       "version_major": 2,
       "version_minor": 0
      },
      "method": "display_data"
     },
     "metadata": {},
     "output_type": "display_data"
    }
   ],
   "source": [
    "// Raise a column to an exponent\n",
    "val squaredVolumeRdd = pricesRdd.addColumns(\"squaredVolume\" -> DoubleType -> { row => Math.pow(row.getAs[Double](\"volume\"), 2) })\n",
    "preview(squaredVolumeRdd)"
   ]
  },
  {
   "cell_type": "code",
   "execution_count": 16,
   "metadata": {},
   "outputs": [
    {
     "data": {
      "application/vnd.jupyter.widget-view+json": {
       "model_id": "21a9726c-4415-46f7-9d02-dda62d67ffa2",
       "version_major": 2,
       "version_minor": 0
      },
      "method": "display_data"
     },
     "metadata": {},
     "output_type": "display_data"
    },
    {
     "data": {
      "application/vnd.jupyter.widget-view+json": {
       "model_id": "e6f4ebee-135e-4c0a-96e1-ebb308eb17d8",
       "version_major": 2,
       "version_minor": 0
      },
      "method": "display_data"
     },
     "metadata": {},
     "output_type": "display_data"
    }
   ],
   "source": [
    "// Calculate difference between two columns\n",
    "val priceChangeRdd = pricesRdd.addColumns(\"priceChange\" -> DoubleType -> { row => \n",
    "    row.getAs[Double](\"close\") - row.getAs[Double](\"open\")\n",
    "})\n",
    "preview(priceChangeRdd)"
   ]
  },
  {
   "cell_type": "code",
   "execution_count": 17,
   "metadata": {},
   "outputs": [
    {
     "data": {
      "application/vnd.jupyter.widget-view+json": {
       "model_id": "5b293788-dbaa-4400-8596-ce69cc17c0c5",
       "version_major": 2,
       "version_minor": 0
      },
      "method": "display_data"
     },
     "metadata": {},
     "output_type": "display_data"
    },
    {
     "data": {
      "application/vnd.jupyter.widget-view+json": {
       "model_id": "af42e6c6-0b7f-4739-88f0-439d821e45b0",
       "version_major": 2,
       "version_minor": 0
      },
      "method": "display_data"
     },
     "metadata": {},
     "output_type": "display_data"
    }
   ],
   "source": [
    "val pricePercentChange = pricesRdd.addColumns(\"pricePercentChange\" -> DoubleType -> { row =>\n",
    "    val openPrice = row.getAs[Double](\"open\")\n",
    "    val closePrice = row.getAs[Double](\"close\")\n",
    "    if (openPrice != 0) (closePrice - openPrice) / openPrice else null\n",
    "})\n",
    "preview(pricePercentChange)"
   ]
  },
  {
   "cell_type": "markdown",
   "metadata": {},
   "source": [
    "## Filtering"
   ]
  },
  {
   "cell_type": "code",
   "execution_count": 18,
   "metadata": {},
   "outputs": [
    {
     "data": {
      "application/vnd.jupyter.widget-view+json": {
       "model_id": "555d3630-1a95-46ad-b2ca-901a73887106",
       "version_major": 2,
       "version_minor": 0
      },
      "method": "display_data"
     },
     "metadata": {},
     "output_type": "display_data"
    },
    {
     "data": {
      "application/vnd.jupyter.widget-view+json": {
       "model_id": "242e49f7-9357-4e23-b32e-439817761df5",
       "version_major": 2,
       "version_minor": 0
      },
      "method": "display_data"
     },
     "metadata": {},
     "output_type": "display_data"
    }
   ],
   "source": [
    "// Select rows where the price went up\n",
    "val priceIncreasedRdd = pricesRdd.keepRows { row =>\n",
    "    row.getAs[Double](\"close\") > row.getAs[Double](\"open\")\n",
    "}\n",
    "preview(priceIncreasedRdd)"
   ]
  },
  {
   "cell_type": "code",
   "execution_count": 19,
   "metadata": {},
   "outputs": [
    {
     "data": {
      "application/vnd.jupyter.widget-view+json": {
       "model_id": "8ec86d53-3bbd-439b-aa5c-c98aee29e721",
       "version_major": 2,
       "version_minor": 0
      },
      "method": "display_data"
     },
     "metadata": {},
     "output_type": "display_data"
    },
    {
     "data": {
      "application/vnd.jupyter.widget-view+json": {
       "model_id": "6a84cbc6-6074-4847-abb7-5b3a58228ca9",
       "version_major": 2,
       "version_minor": 0
      },
      "method": "display_data"
     },
     "metadata": {},
     "output_type": "display_data"
    }
   ],
   "source": [
    "// The keepRows and deleteRows functions take a function from Row to Boolean as a filtering criteria.\n",
    "// Only get rows whose symbol starts with 'A'\n",
    "val startsWithARdd = pricesRdd.keepRows { row =>\n",
    "    val symbol = row.getAs[String](\"symbol\")\n",
    "    symbol != null && symbol.startsWith(\"A\")\n",
    "}\n",
    "preview(startsWithARdd)"
   ]
  },
  {
   "cell_type": "code",
   "execution_count": 20,
   "metadata": {},
   "outputs": [
    {
     "data": {
      "application/vnd.jupyter.widget-view+json": {
       "model_id": "a83e3398-15ae-4bbb-bf57-02ce25efe28e",
       "version_major": 2,
       "version_minor": 0
      },
      "method": "display_data"
     },
     "metadata": {},
     "output_type": "display_data"
    },
    {
     "data": {
      "application/vnd.jupyter.widget-view+json": {
       "model_id": "078a729c-796c-405a-be2b-c610a0896700",
       "version_major": 2,
       "version_minor": 0
      },
      "method": "display_data"
     },
     "metadata": {},
     "output_type": "display_data"
    }
   ],
   "source": [
    "//Remove all rows whose volumn is less than 2000000\n",
    "val lowVolumeRdd  = pricesRdd.keepRows { row =>\n",
    "    row.getAs[Double](\"volume\") < 2000000\n",
    "}\n",
    "preview(lowVolumeRdd)"
   ]
  },
  {
   "cell_type": "markdown",
   "metadata": {},
   "source": [
    "## Using history with window"
   ]
  },
  {
   "cell_type": "code",
   "execution_count": 21,
   "metadata": {},
   "outputs": [
    {
     "data": {
      "application/vnd.jupyter.widget-view+json": {
       "model_id": "0b1415a1-d41a-46cf-8b9e-22c068fd1f5a",
       "version_major": 2,
       "version_minor": 0
      },
      "method": "display_data"
     },
     "metadata": {},
     "output_type": "display_data"
    },
    {
     "data": {
      "application/vnd.jupyter.widget-view+json": {
       "model_id": "ce87817f-b49c-4456-a1b4-863d697324a0",
       "version_major": 2,
       "version_minor": 0
      },
      "method": "display_data"
     },
     "metadata": {},
     "output_type": "display_data"
    }
   ],
   "source": [
    "// Moving average over the last two weeks \n",
    "val ibmPricesRdd = pricesRdd.keepRows { row =>\n",
    "    row.getAs[String](\"symbol\") == \"IBM\"\n",
    "}\n",
    "var windowedIbmPricesRdd = ibmPricesRdd.addWindows(Windows.pastAbsoluteTime(\"14days\"))\n",
    "windowedIbmPricesRdd = windowedIbmPricesRdd.addColumns(\"movingAverage\" -> DoubleType -> { row =>\n",
    "    val pastRows = row.getAs[Seq[Row]](\"window_past_14days\")\n",
    "    pastRows.map(_.getAs[Double](\"close\")).sum / pastRows.size\n",
    "})\n",
    "preview(windowedIbmPricesRdd)"
   ]
  },
  {
   "cell_type": "code",
   "execution_count": 22,
   "metadata": {},
   "outputs": [
    {
     "data": {
      "application/vnd.jupyter.widget-view+json": {
       "model_id": "1ed854d2-df39-40db-990a-ffcb873348c2",
       "version_major": 2,
       "version_minor": 0
      },
      "method": "display_data"
     },
     "metadata": {},
     "output_type": "display_data"
    },
    {
     "data": {
      "application/vnd.jupyter.widget-view+json": {
       "model_id": "d18fbc6a-edd8-403c-9678-c4397c4f791e",
       "version_major": 2,
       "version_minor": 0
      },
      "method": "display_data"
     },
     "metadata": {},
     "output_type": "display_data"
    }
   ],
   "source": [
    "// Moving average over the last two weeks for all symbols \n",
    "var pastWindowRdd = pricesRdd.addWindows(Windows.pastAbsoluteTime(\"14days\"), Seq(\"symbol\"))\n",
    "pastWindowRdd = pastWindowRdd.addColumns(\"movingAverage\" -> DoubleType -> { row =>\n",
    "    val pastRows = row.getAs[Seq[Row]](\"window_past_14days\")\n",
    "    pastRows.map(_.getAs[Double](\"close\")).sum / pastRows.size\n",
    "})\n",
    "preview(pastWindowRdd)"
   ]
  },
  {
   "cell_type": "code",
   "execution_count": 23,
   "metadata": {},
   "outputs": [
    {
     "ename": "<console>",
     "evalue": "93",
     "output_type": "error",
     "traceback": [
      "\u001b[1;31m<console>:93: error: value pastTradingTime is not a member of object com.twosigma.flint.timeseries.Windows\u001b[0;0m",
      "\u001b[1;31m       var allSymbolsRdd = pricesRdd.addWindows(Windows.pastTradingTime(\"1days\", \"US\"), Seq(\"symbol\"))\u001b[0;0m",
      "\u001b[1;31m                                                        ^\u001b[0;0m"
     ]
    }
   ],
   "source": [
    "// Compute the difference from the previous trading day\n",
    "var allSymbolsRdd = pricesRdd.addWindows(Windows.pastTradingTime(\"1days\", \"US\"), Seq(\"symbol\"))\n",
    "allSymbolsRdd = allSymbolsRdd.addColumns(\"priceChange\" -> DoubleType -> { row =>\n",
    "    val pastRows = row.getAs[Seq[Row]](\"window_past_trading_1days\")\n",
    "    if (pastRows.size == 2) {\n",
    "        pastRows(1).getAs[Double](\"open\") - pastRows(0).getAs[Double](\"close\")\n",
    "    } else {\n",
    "        null\n",
    "    }\n",
    "})\n",
    "preview(allSymbolsRdd)"
   ]
  },
  {
   "cell_type": "markdown",
   "metadata": {},
   "source": [
    "## Calculating values for a cycle"
   ]
  },
  {
   "cell_type": "code",
   "execution_count": 24,
   "metadata": {},
   "outputs": [
    {
     "data": {
      "application/vnd.jupyter.widget-view+json": {
       "model_id": "dc5e00e1-b8d8-4ddb-a1fc-6cab5b4413ed",
       "version_major": 2,
       "version_minor": 0
      },
      "method": "display_data"
     },
     "metadata": {},
     "output_type": "display_data"
    },
    {
     "data": {
      "application/vnd.jupyter.widget-view+json": {
       "model_id": "d64d8e29-bbcb-4036-b021-8d4df1b27d61",
       "version_major": 2,
       "version_minor": 0
      },
      "method": "display_data"
     },
     "metadata": {},
     "output_type": "display_data"
    }
   ],
   "source": [
    "// addColumnsForCycle takes a closure that is applied to a list of rows and returns a map from row to result. The list contains all rows that share a timestamp.\n",
    "\n",
    "// Add a column containing the number of instruments in the universe on each day\n",
    "val cycleRdd = pricesRdd.addColumnsForCycle(\"universeSize\" -> IntegerType -> { rows: Seq[Row] =>\n",
    "    rows.map { row => row -> rows.size }.toMap\n",
    "})\n",
    "preview(cycleRdd)"
   ]
  },
  {
   "cell_type": "code",
   "execution_count": 25,
   "metadata": {},
   "outputs": [
    {
     "data": {
      "application/vnd.jupyter.widget-view+json": {
       "model_id": "41044ac2-c4bb-4821-bb9f-f49f2d243904",
       "version_major": 2,
       "version_minor": 0
      },
      "method": "display_data"
     },
     "metadata": {},
     "output_type": "display_data"
    },
    {
     "data": {
      "application/vnd.jupyter.widget-view+json": {
       "model_id": "2e3ddfcc-f331-4268-b477-ed2bab5c9c13",
       "version_major": 2,
       "version_minor": 0
      },
      "method": "display_data"
     },
     "metadata": {},
     "output_type": "display_data"
    }
   ],
   "source": [
    "// Compute the Z score across an interval\n",
    "val zScoreRdd = pricesRdd.addColumnsForCycle(\"volumeZScore\" -> DoubleType -> { rows: Seq[Row] =>\n",
    "    val mean = rows.map(_.getAs[Double](\"volume\")).sum / rows.size\n",
    "    val stddev = Math.sqrt(rows.map { row =>\n",
    "        Math.pow(row.getAs[Double](\"close\") - mean, 2)\n",
    "    }.sum ) / (rows.size - 1)\n",
    "    rows.map { row =>\n",
    "        row -> (row.getAs[Double](\"close\") - mean) / stddev\n",
    "    }.toMap\n",
    "})\n",
    "preview(zScoreRdd)"
   ]
  },
  {
   "cell_type": "code",
   "execution_count": 26,
   "metadata": {},
   "outputs": [
    {
     "data": {
      "application/vnd.jupyter.widget-view+json": {
       "model_id": "9092850f-97c3-4c94-9105-7e1f83ee013f",
       "version_major": 2,
       "version_minor": 0
      },
      "method": "display_data"
     },
     "metadata": {},
     "output_type": "display_data"
    },
    {
     "data": {
      "application/vnd.jupyter.widget-view+json": {
       "model_id": "c23adbd1-7be7-40d5-9595-7a433f1897f4",
       "version_major": 2,
       "version_minor": 0
      },
      "method": "display_data"
     },
     "metadata": {},
     "output_type": "display_data"
    }
   ],
   "source": [
    "// Add a column with rankings with the same timestamp\n",
    "import org.apache.commons.math3.stat.ranking.NaturalRanking\n",
    "\n",
    "val rankedRdd = pricesRdd.addColumnsForCycle(\"r\" -> DoubleType -> { rows: Seq[Row] =>\n",
    "    val ranking = new NaturalRanking()\n",
    "    val ranks = ranking.rank(rows.map(_.getAs[Double](\"volume\")).toArray)\n",
    "    (rows zip ranks).toMap\n",
    "})\n",
    "preview(rankedRdd)"
   ]
  },
  {
   "cell_type": "markdown",
   "metadata": {},
   "source": [
    "## Intervalizing"
   ]
  },
  {
   "cell_type": "code",
   "execution_count": 27,
   "metadata": {},
   "outputs": [
    {
     "data": {
      "application/vnd.jupyter.widget-view+json": {
       "model_id": "d0dd0992-2e2e-4b37-a3ad-f6dcf409298c",
       "version_major": 2,
       "version_minor": 0
      },
      "method": "display_data"
     },
     "metadata": {},
     "output_type": "display_data"
    },
    {
     "data": {
      "application/vnd.jupyter.widget-view+json": {
       "model_id": "16630427-4ed1-44e6-806a-1d87caf45129",
       "version_major": 2,
       "version_minor": 0
      },
      "method": "display_data"
     },
     "metadata": {},
     "output_type": "display_data"
    },
    {
     "data": {
      "application/vnd.jupyter.widget-view+json": {
       "model_id": "37b01970-141b-4270-93d8-6896a107497c",
       "version_major": 2,
       "version_minor": 0
      },
      "method": "display_data"
     },
     "metadata": {},
     "output_type": "display_data"
    },
    {
     "data": {
      "application/vnd.jupyter.widget-view+json": {
       "model_id": "5727a4c3-e90c-4c57-9780-652d366e70e7",
       "version_major": 2,
       "version_minor": 0
      },
      "method": "display_data"
     },
     "metadata": {},
     "output_type": "display_data"
    },
    {
     "data": {
      "application/vnd.jupyter.widget-view+json": {
       "model_id": "8067eccb-98b8-4a64-96c5-e374a085a1ee",
       "version_major": 2,
       "version_minor": 0
      },
      "method": "display_data"
     },
     "metadata": {},
     "output_type": "display_data"
    }
   ],
   "source": [
    "// Volume weighted average price for every 7 days for IBM\n",
    "val clock = Clocks.uniform(sc, \"7d\")\n",
    "var ibmPricesRdd = pricesRdd.keepRows { row =>\n",
    "    row.getAs[String](\"symbol\") == \"IBM\"\n",
    "}\n",
    "var volumeWeightedRdd = ibmPricesRdd.groupByInterval(clock).addColumns(\"volumeWeightedPrice\" -> DoubleType -> { row =>\n",
    "    val rows = row.getAs[Seq[Row]](\"rows\")\n",
    "    val weightedSum = rows.map { row =>\n",
    "        (row.getAs[Double](\"open\") + row.getAs[Double](\"close\")) / 2 * row.getAs[Double](\"volume\")\n",
    "    }.sum\n",
    "    weightedSum / rows.map (_.getAs[Double](\"volume\")).sum\n",
    "}).deleteColumns(\"rows\")\n",
    "preview(volumeWeightedRdd)"
   ]
  },
  {
   "cell_type": "markdown",
   "metadata": {},
   "source": [
    "## Aggregating"
   ]
  },
  {
   "cell_type": "code",
   "execution_count": 28,
   "metadata": {},
   "outputs": [
    {
     "data": {
      "application/vnd.jupyter.widget-view+json": {
       "model_id": "238bc6f0-d7cc-43cb-a86c-2a7acc2b63a5",
       "version_major": 2,
       "version_minor": 0
      },
      "method": "display_data"
     },
     "metadata": {},
     "output_type": "display_data"
    },
    {
     "data": {
      "application/vnd.jupyter.widget-view+json": {
       "model_id": "7b5ebe1c-25e3-40c1-8f68-d996101916b8",
       "version_major": 2,
       "version_minor": 0
      },
      "method": "display_data"
     },
     "metadata": {},
     "output_type": "display_data"
    },
    {
     "data": {
      "application/vnd.jupyter.widget-view+json": {
       "model_id": "66e09536-5453-4119-9969-656b40715ea4",
       "version_major": 2,
       "version_minor": 0
      },
      "method": "display_data"
     },
     "metadata": {},
     "output_type": "display_data"
    },
    {
     "data": {
      "application/vnd.jupyter.widget-view+json": {
       "model_id": "b39bc3d6-7fcf-4698-92ac-75539471aca7",
       "version_major": 2,
       "version_minor": 0
      },
      "method": "display_data"
     },
     "metadata": {},
     "output_type": "display_data"
    },
    {
     "data": {
      "application/vnd.jupyter.widget-view+json": {
       "model_id": "d7de1660-6b28-4dbf-b8c8-e80fcafb55d1",
       "version_major": 2,
       "version_minor": 0
      },
      "method": "display_data"
     },
     "metadata": {},
     "output_type": "display_data"
    },
    {
     "data": {
      "application/vnd.jupyter.widget-view+json": {
       "model_id": "cf0d73bf-27b5-464b-9bc3-f54814ac0526",
       "version_major": 2,
       "version_minor": 0
      },
      "method": "display_data"
     },
     "metadata": {},
     "output_type": "display_data"
    }
   ],
   "source": [
    "// Average daily volume\n",
    "val volumeRdd = pricesRdd.summarize(Summarizers.nthMoment(\"volume\", 1), Seq(\"symbol\"))\n",
    "preview(volumeRdd)"
   ]
  },
  {
   "cell_type": "markdown",
   "metadata": {},
   "source": [
    "## Regression with Open Source Package"
   ]
  },
  {
   "cell_type": "code",
   "execution_count": 30,
   "metadata": {},
   "outputs": [
    {
     "data": {
      "application/vnd.jupyter.widget-view+json": {
       "model_id": "9fe82117-e827-4cc2-bd61-86a93e97b698",
       "version_major": 2,
       "version_minor": 0
      },
      "method": "display_data"
     },
     "metadata": {},
     "output_type": "display_data"
    },
    {
     "data": {
      "application/vnd.jupyter.widget-view+json": {
       "model_id": "77bb5f6d-999a-4e94-be23-4490b61e248d",
       "version_major": 2,
       "version_minor": 0
      },
      "method": "display_data"
     },
     "metadata": {},
     "output_type": "display_data"
    },
    {
     "data": {
      "application/vnd.jupyter.widget-view+json": {
       "model_id": "18d7d8b8-9696-43cb-b8a1-66a2c91950d1",
       "version_major": 2,
       "version_minor": 0
      },
      "method": "display_data"
     },
     "metadata": {},
     "output_type": "display_data"
    }
   ],
   "source": [
    "//stat.regression\n",
    "import breeze.linalg.DenseVector\n",
    "import org.apache.spark.mllib.random.RandomRDDs\n",
    "import com.twosigma.flint.math.stats.regression.WeightedLabeledPoint\n",
    "import com.twosigma.flint.math.stats.regression.OLSMultipleLinearRegression\n",
    "\n",
    "// Generate a random data set from a linear model with beta = [1.0, 2.0] and intercept = 3.0\n",
    "val data = WeightedLabeledPoint.generateSampleData(spark.sparkContext, DenseVector(1.0, 2.0), 3.0)\n",
    "\n",
    "// Fit the data using the OLS linear regression.\n",
    "val model = OLSMultipleLinearRegression.regression(data)\n",
    "\n",
    "// Retrieve the estimate beta and intercept.\n",
    "val denseVector = model.estimateRegressionParameters\n",
    "\n",
    "Map(denseVector.activeIterator.toSeq.map { m => m._1 -> m._2} : _*)"
   ]
  }
 ],
 "metadata": {
  "kernelspec": {
   "display_name": "Scala",
   "language": "scala",
   "name": "scala"
  },
  "language_info": {
   "codemirror_mode": "text/x-scala",
   "file_extension": ".scala",
   "mimetype": "",
   "name": "Scala",
   "nbconverter_exporter": "",
   "version": "2.11.12"
  }
 },
 "nbformat": 4,
 "nbformat_minor": 2
}
