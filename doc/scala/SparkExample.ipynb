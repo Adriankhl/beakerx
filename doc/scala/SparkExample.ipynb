{
 "cells": [
  {
   "cell_type": "code",
   "execution_count": 1,
   "metadata": {},
   "outputs": [
    {
     "data": {
      "text/plain": [
       "32"
      ]
     },
     "execution_count": 1,
     "metadata": {},
     "output_type": "execute_result"
    }
   ],
   "source": [
    "32"
   ]
  },
  {
   "cell_type": "code",
   "execution_count": 2,
   "metadata": {
    "scrolled": true
   },
   "outputs": [
    {
     "data": {
      "application/vnd.jupyter.widget-view+json": {
       "model_id": "41b52f94-5301-4d99-bfce-d27ec7d84b2f",
       "version_major": 2,
       "version_minor": 0
      },
      "method": "display_data"
     },
     "metadata": {},
     "output_type": "display_data"
    },
    {
     "name": "stdout",
     "output_type": "stream",
     "text": [
      "Added jars: [htrace-core-3.0.4.jar, activation-1.1.1.jar, metrics-core-3.1.2.jar, jackson-databind-2.6.5.jar, metrics-json-3.1.2.jar, httpclient-4.3.6.jar, hadoop-auth-2.6.5.jar, curator-client-2.6.0.jar, commons-configuration-1.6.jar, jackson-module-paranamer-2.6.5.jar, bcprov-jdk15on-1.51.jar, curator-framework-2.6.0.jar, spark-unsafe_2.11-2.2.0.jar, avro-1.7.7.jar, aopalliance-repackaged-2.4.0-b34.jar, pyrolite-4.13.jar, netty-all-4.0.43.Final.jar, hadoop-common-2.6.5.jar, avro-mapred-1.7.7-hadoop2.jar, curator-recipes-2.6.0.jar, commons-crypto-1.0.0.jar, hk2-locator-2.4.0-b34.jar, jersey-media-jaxb-2.22.2.jar, jersey-server-2.22.2.jar, hk2-utils-2.4.0-b34.jar, jersey-container-servlet-2.22.2.jar, jackson-core-asl-1.9.13.jar, hadoop-mapreduce-client-shuffle-2.6.5.jar, metrics-graphite-3.1.2.jar, commons-compress-1.4.1.jar, jetty-util-6.1.26.jar, jackson-module-scala_2.11-2.6.5.jar, spark-launcher_2.11-2.2.0.jar, oro-2.0.8.jar, spark-network-common_2.11-2.2.0.jar, javax.annotation-api-1.2.jar, zookeeper-3.4.6.jar, paranamer-2.3.jar, xbean-asm5-shaded-4.4.jar, json4s-core_2.11-3.2.11.jar, commons-collections-3.2.2.jar, jackson-xc-1.9.13.jar, hadoop-yarn-common-2.6.5.jar, leveldbjni-all-1.8.jar, scala-compiler-2.11.0.jar, py4j-0.10.4.jar, slf4j-api-1.7.16.jar, spark-network-shuffle_2.11-2.2.0.jar, RoaringBitmap-0.5.11.jar, osgi-resource-locator-1.0.1.jar, hadoop-annotations-2.6.5.jar, minlog-1.3.0.jar, spark-core_2.11-2.2.0.jar, hadoop-mapreduce-client-app-2.6.5.jar, hk2-api-2.4.0-b34.jar, ivy-2.4.0.jar, jets3t-0.9.3.jar, javax.servlet-api-3.1.0.jar, javax.ws.rs-api-2.0.1.jar, jackson-mapper-asl-1.9.13.jar, xmlenc-0.52.jar, apacheds-i18n-2.0.0-M15.jar, mail-1.4.7.jar, apacheds-kerberos-codec-2.0.0-M15.jar, commons-digester-1.8.jar, commons-beanutils-1.7.0.jar, snappy-java-1.1.2.6.jar, commons-cli-1.2.jar, hadoop-client-2.6.5.jar, avro-ipc-1.7.7.jar, hadoop-yarn-client-2.6.5.jar, guava-16.0.1.jar, xml-apis-1.3.04.jar, javax.inject-2.4.0-b34.jar, log4j-1.2.17.jar, scala-parser-combinators_2.11-1.0.1.jar, hadoop-yarn-server-common-2.6.5.jar, httpcore-4.3.3.jar, hadoop-mapreduce-client-jobclient-2.6.5.jar, api-asn1-api-1.0.0-M20.jar, chill_2.11-0.8.0.jar, mx4j-3.0.2.jar, avro-ipc-1.7.7-tests.jar, xz-1.0.jar, metrics-jvm-3.1.2.jar, java-xmlbuilder-1.0.jar, jersey-container-servlet-core-2.22.2.jar, slf4j-log4j12-1.7.16.jar, jackson-core-2.6.5.jar, spark-tags_2.11-2.2.0.jar, commons-beanutils-core-1.8.0.jar, chill-java-0.8.0.jar, jersey-client-2.22.2.jar, scala-library-2.11.8.jar, netty-3.9.9.Final.jar, scala-xml_2.11-1.0.1.jar, gson-2.2.4.jar, hadoop-hdfs-2.6.5.jar, api-util-1.0.0-M20.jar, lz4-1.3.0.jar, javassist-3.18.1-GA.jar, kryo-shaded-3.0.3.jar, validation-api-1.1.0.Final.jar, jul-to-slf4j-1.7.16.jar, hadoop-mapreduce-client-core-2.6.5.jar, protobuf-java-2.5.0.jar, stax-api-1.0-2.jar, scala-reflect-2.11.7.jar, hadoop-mapreduce-client-common-2.6.5.jar, jsr305-1.3.9.jar, scalap-2.11.0.jar, json4s-jackson_2.11-3.2.11.jar, commons-codec-1.8.jar, commons-lang-2.6.jar, json4s-ast_2.11-3.2.11.jar, jersey-guava-2.22.2.jar, commons-math3-3.4.1.jar, jersey-common-2.22.2.jar, jaxb-api-2.2.2.jar, hadoop-yarn-api-2.6.5.jar, commons-lang3-3.5.jar, commons-net-2.2.jar, commons-io-2.4.jar, objenesis-2.1.jar, jackson-jaxrs-1.9.13.jar, base64-2.3.8.jar, commons-httpclient-3.1.jar, unused-1.0.0.jar, jackson-annotations-2.6.5.jar, compress-lzf-1.0.3.jar, stream-2.7.0.jar, jcl-over-slf4j-1.7.16.jar, xercesImpl-2.9.1.jar]\n"
     ]
    }
   ],
   "source": [
    "%classpath add mvn org.apache.spark spark-core_2.11 2.2.0"
   ]
  },
  {
   "cell_type": "code",
   "execution_count": 3,
   "metadata": {},
   "outputs": [
    {
     "data": {
      "text/plain": [
       "32"
      ]
     },
     "execution_count": 3,
     "metadata": {},
     "output_type": "execute_result"
    }
   ],
   "source": [
    "32"
   ]
  },
  {
   "cell_type": "code",
   "execution_count": null,
   "metadata": {},
   "outputs": [],
   "source": []
  }
 ],
 "metadata": {
  "kernelspec": {
   "display_name": "Scala",
   "language": "scala",
   "name": "scala"
  },
  "language_info": {
   "codemirror_mode": "text/x-scala",
   "file_extension": ".scala",
   "mimetype": "",
   "name": "Scala",
   "nbconverter_exporter": "",
   "version": "2.11.11"
  }
 },
 "nbformat": 4,
 "nbformat_minor": 2
}
