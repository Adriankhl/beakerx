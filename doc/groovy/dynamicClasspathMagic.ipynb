{
 "cells": [
  {
   "cell_type": "code",
   "execution_count": null,
   "metadata": {},
   "outputs": [],
   "source": [
    "import com.example.Demo"
   ]
  },
  {
   "cell_type": "code",
   "execution_count": null,
   "metadata": {},
   "outputs": [],
   "source": [
    "if (true) {\n",
    "  cp = \"../resources/jar\"\n",
    "} else {\n",
    "  cp = \"location2\"\n",
    "}\n",
    "cp += \"/*\"\n",
    "println(\"Your cp: \" +cp)"
   ]
  },
  {
   "cell_type": "code",
   "execution_count": null,
   "metadata": {},
   "outputs": [],
   "source": [
    "%classpath add dynamic cp"
   ]
  },
  {
   "cell_type": "code",
   "execution_count": null,
   "metadata": {},
   "outputs": [],
   "source": [
    "aa =true\n",
    "bb = \"../resources/jar/*\"\n",
    "cc = \"location2\""
   ]
  },
  {
   "cell_type": "code",
   "execution_count": null,
   "metadata": {},
   "outputs": [],
   "source": [
    "%classpath add dynamic aa ? bb : c"
   ]
  },
  {
   "cell_type": "code",
   "execution_count": null,
   "metadata": {},
   "outputs": [],
   "source": [
    "import com.example.Demo"
   ]
  },
  {
   "cell_type": "code",
   "execution_count": 1,
   "metadata": {},
   "outputs": [
    {
     "name": "stdout",
     "output_type": "stream",
     "text": [
      "Available magic commands:\n",
      "%%javascript \n",
      "%%js \n",
      "%%html \n",
      "%%HTML \n",
      "%%bash \n",
      "%lsmagic \n",
      "%classpath add jar <jar path>\n",
      "%classpath add mvn <group name version>\n",
      "%classpath add dynamic \n",
      "%classpath config resolver <repoName repoUrl>\n",
      "%classpath remove <jar path>\n",
      "%classpath \n",
      "%import static <classpath>\n",
      "%import <classpath>\n",
      "%unimport <classpath>\n",
      "%time \n",
      "%%time \n",
      "%timeit \n",
      "%%timeit \n",
      "%load_magic \n"
     ]
    }
   ],
   "source": [
    "%lsmagic"
   ]
  },
  {
   "cell_type": "code",
   "execution_count": null,
   "metadata": {},
   "outputs": [],
   "source": []
  }
 ],
 "metadata": {
  "kernelspec": {
   "display_name": "Groovy",
   "language": "groovy",
   "name": "groovy"
  },
  "language_info": {
   "codemirror_mode": "groovy",
   "file_extension": ".groovy",
   "mimetype": "",
   "name": "Groovy",
   "nbconverter_exporter": "",
   "version": "2.4.3"
  }
 },
 "nbformat": 4,
 "nbformat_minor": 2
}
