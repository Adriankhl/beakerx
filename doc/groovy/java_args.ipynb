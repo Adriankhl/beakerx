{
 "cells": [
  {
   "cell_type": "markdown",
   "metadata": {},
   "source": [
    "# Setting the JVM Heap and other parameters\n",
    "Java allows you to configure the maximum heap size and various other settings with command line parameters when the JVM is started.  BeakerX allows you to add parameters to the JVM with a control panel added to Jupyter's tree view.\n",
    "\n",
    "The settings are stored in your ~/.jupyter/beakerx.json file.\n",
    "\n",
    "Use the following cells to confirm the heap size and property values.  Note that if you change the values in the UI, the changes will not take effect on any running kernel until it is restarted."
   ]
  },
  {
   "cell_type": "code",
   "execution_count": 1,
   "metadata": {},
   "outputs": [
    {
     "data": {
      "text/plain": [
       "3.817865216"
      ]
     },
     "execution_count": 1,
     "metadata": {},
     "output_type": "execute_result"
    }
   ],
   "source": [
    " Runtime.getRuntime().maxMemory()/1e9"
   ]
  },
  {
   "cell_type": "code",
   "execution_count": 2,
   "metadata": {},
   "outputs": [
    {
     "data": {
      "text/plain": [
       "null"
      ]
     },
     "execution_count": 2,
     "metadata": {},
     "output_type": "execute_result"
    }
   ],
   "source": [
    "System.getProperty(\"myproperty\")"
   ]
  },
  {
   "attachments": {},
   "cell_type": "markdown",
   "metadata": {},
   "source": [
    "## Screenshot of the control panel\n",
    "\n",
    "\n",
    "![javaArg.png](../resources/img/javaArg.png)"
   ]
  },
  {
   "cell_type": "code",
   "execution_count": null,
   "metadata": {
    "collapsed": true
   },
   "outputs": [],
   "source": []
  }
 ],
 "metadata": {
  "beakerx_kernel_parameters": {},
  "kernelspec": {
   "display_name": "Groovy",
   "language": "groovy",
   "name": "groovy"
  },
  "language_info": {
   "codemirror_mode": "groovy",
   "file_extension": ".groovy",
   "mimetype": "",
   "name": "Groovy",
   "nbconverter_exporter": "",
   "version": "2.4.3"
  }
 },
 "nbformat": 4,
 "nbformat_minor": 2
}
