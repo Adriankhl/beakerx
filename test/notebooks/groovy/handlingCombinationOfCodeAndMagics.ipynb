{
 "cells": [
  {
   "cell_type": "code",
   "execution_count": 1,
   "metadata": {
    "scrolled": false
   },
   "outputs": [
    {
     "name": "stdout",
     "output_type": "stream",
     "text": [
      "1\n",
      "221\n",
      "CPU times: user 0 ns, sys: 3 ms, total: 3 ms \n",
      "Wall Time: 16 ms\n",
      "\n",
      "2\n"
     ]
    },
    {
     "data": {
      "text/plain": [
       "3"
      ]
     },
     "execution_count": 1,
     "metadata": {},
     "output_type": "execute_result"
    },
    {
     "name": "stdout",
     "output_type": "stream",
     "text": [
      "CPU times: user 0 ns, sys: 92 µs, total: 92 µs \n",
      "Wall Time: 21 ms\n",
      "\n"
     ]
    }
   ],
   "source": [
    "println(1)\n",
    "%time println(221)\n",
    "println(2)\n",
    "%time 1+2"
   ]
  },
  {
   "cell_type": "code",
   "execution_count": 2,
   "metadata": {},
   "outputs": [
    {
     "ename": "org.codehaus.groovy.control.MultipleCompilationErrorsException",
     "evalue": " startup failed",
     "output_type": "error",
     "traceback": [
      "\u001b[0;31morg.codehaus.groovy.control.MultipleCompilationErrorsException: startup failed:",
      "\u001b[0;31mscript15166178306951978045712.groovy: 3: unexpected token: % @ line 3, column 1.",
      "\u001b[0;31m   %time println(221)",
      "\u001b[0;31m   ^",
      "\u001b[0;31m",
      "\u001b[0;31m1 error",
      "\u001b[0;31m",
      "\u001b[0;31m\tat com.twosigma.beakerx.groovy.evaluator.GroovyCodeRunner.run(GroovyCodeRunner.java:57)"
     ]
    },
    {
     "data": {
      "text/plain": [
       "3"
      ]
     },
     "execution_count": 2,
     "metadata": {},
     "output_type": "execute_result"
    },
    {
     "name": "stdout",
     "output_type": "stream",
     "text": [
      "CPU times: user 0 ns, sys: 124 µs, total: 124 µs \n",
      "Wall Time: 88 ms\n",
      "\n"
     ]
    }
   ],
   "source": [
    "println(1)\n",
    "if(true){\n",
    "    %time println(221)\n",
    "}\n",
    "println(2)\n",
    "%time 1+2"
   ]
  },
  {
   "cell_type": "code",
   "execution_count": 3,
   "metadata": {},
   "outputs": [
    {
     "name": "stdout",
     "output_type": "stream",
     "text": [
      "Added jar: [demo.jar]\n"
     ]
    }
   ],
   "source": [
    "%classpath add jar ../../../doc/resources/jar/demo.jar\n",
    "\n",
    "%import com.twosigma.beakerx.widgets.integers.IntSlider"
   ]
  },
  {
   "cell_type": "code",
   "execution_count": null,
   "metadata": {},
   "outputs": [],
   "source": []
  }
 ],
 "metadata": {
  "kernelspec": {
   "display_name": "Groovy",
   "language": "groovy",
   "name": "groovy"
  },
  "language_info": {
   "codemirror_mode": "groovy",
   "file_extension": ".groovy",
   "mimetype": "",
   "name": "Groovy",
   "nbconverter_exporter": "",
   "version": "2.4.3"
  }
 },
 "nbformat": 4,
 "nbformat_minor": 2
}
