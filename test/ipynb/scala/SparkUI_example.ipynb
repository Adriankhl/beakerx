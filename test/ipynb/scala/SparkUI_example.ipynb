{
 "cells": [
  {
   "cell_type": "code",
   "execution_count": null,
   "metadata": {},
   "outputs": [],
   "source": [
    "%%spark"
   ]
  },
  {
   "cell_type": "code",
   "execution_count": null,
   "metadata": {},
   "outputs": [],
   "source": [
    "%%spark\n",
    "import org.apache.spark.SparkConf\n",
    "new SparkConf()\n",
    "  .setMaster(\"local[*]\")\n",
    "  .setAppName(\"Simple Application\") "
   ]
  },
  {
   "cell_type": "code",
   "execution_count": null,
   "metadata": {},
   "outputs": [],
   "source": [
    "val NUM_SAMPLES = 10000000\n",
    "\n",
    "val count = sc.parallelize(1 to NUM_SAMPLES).map{i =>\n",
    "  val x = Math.random()\n",
    "  val y = Math.random()\n",
    "  if (x*x + y*y < 1) 1 else 0\n",
    "}.reduce(_ + _)\n",
    "\n",
    "println(\"Pi is roughly \" + 4.0 * count / NUM_SAMPLES)"
   ]
  },
  {
   "cell_type": "code",
   "execution_count": null,
   "metadata": {},
   "outputs": [],
   "source": [
    "val NUM_SAMPLES = 10000000\n",
    "\n",
    "val count2 = sc.parallelize(1 to NUM_SAMPLES).map{i =>\n",
    "  val x = Math.random()\n",
    "  val y = Math.random()\n",
    "  if (x*x + y*y < 1) 1 else 0\n",
    "}.reduce(_ + _)\n",
    "\n",
    "println(\"Pi is roughly \" + 4.0 * count2 / NUM_SAMPLES)"
   ]
  },
  {
   "cell_type": "code",
   "execution_count": null,
   "metadata": {},
   "outputs": [],
   "source": [
    "sc.stop()"
   ]
  },
  {
   "cell_type": "code",
   "execution_count": null,
   "metadata": {},
   "outputs": [],
   "source": [
    "//import org.apache.spark.SparkContext\n",
    "//import org.apache.spark.SparkConf\n",
    "\n",
    "//val conf = new SparkConf()\n",
    "//  .setMaster(\"spark://jm-Y700:7077\")\n",
    "//  .setAppName(\"Simple Application\")   "
   ]
  }
 ],
 "metadata": {
  "kernelspec": {
   "display_name": "Scala",
   "language": "scala",
   "name": "scala"
  },
  "language_info": {
   "codemirror_mode": "text/x-scala",
   "file_extension": ".scala",
   "mimetype": "",
   "name": "Scala",
   "nbconverter_exporter": "",
   "version": "2.11.12"
  }
 },
 "nbformat": 4,
 "nbformat_minor": 2
}
