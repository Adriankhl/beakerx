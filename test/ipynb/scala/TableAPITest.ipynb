{
 "cells": [
  {
   "cell_type": "markdown",
   "metadata": {},
   "source": [
    "# Aligment"
   ]
  },
  {
   "cell_type": "code",
   "execution_count": null,
   "metadata": {},
   "outputs": [],
   "source": [
    "import com.twosigma.beakerx.scala.table._\n",
    "import com.twosigma.beakerx.scala.fileloader.CSV\n",
    "import com.twosigma.beakerx.table.format.TableDisplayStringFormat\n",
    "import java.util.concurrent.TimeUnit\n",
    "\n",
    "// 1 setAlignmentProviderForColumn\n",
    "val colNames = Seq(\"default aligment\", \"right aligment\", \"left aligment\",\"center aligment\")\n",
    "val table1 = new TableDisplay(Seq(Seq(123, 123, 123, 123), \n",
    "                                 Seq(231, 231, 231, 231), \n",
    "                                 Seq(312, 312, 312, 312)),\n",
    "                                 colNames,\n",
    "                                 Seq(\"string\", \"integer\", \"integer\", \"integer\"))\n",
    "\n",
    "table1.setAlignmentProviderForColumn(\"left aligment\", TableDisplayAlignmentProvider.LEFT_ALIGNMENT)\n",
    "table1.setAlignmentProviderForColumn(\"center aligment\", TableDisplayAlignmentProvider.CENTER_ALIGNMENT)\n",
    "table1.setAlignmentProviderForColumn(\"right aligment\", TableDisplayAlignmentProvider.RIGHT_ALIGNMENT)\n",
    "table1              "
   ]
  },
  {
   "cell_type": "code",
   "execution_count": null,
   "metadata": {},
   "outputs": [],
   "source": [
    "// expected result of cell 1\n",
    "Image(\"../../resources/img/scala/tableAPI/cell1_case1.png\")"
   ]
  },
  {
   "cell_type": "code",
   "execution_count": null,
   "metadata": {},
   "outputs": [],
   "source": [
    "// 2 setAlignmentProviderForType\n",
    "val colNames = Seq(\"string column\", \"int column 1\", \"double column\",\"int column 2\")\n",
    "val table2 = new TableDisplay(Seq(Seq(\"123\", 123, 12.3, 123), \n",
    "                                 Seq(\"231\", 231, 23.1, 231), \n",
    "                                 Seq(\"312\", 312, 31.2, 312)),\n",
    "                                 colNames,\n",
    "                                 Seq(\"string\", \"integer\", \"double\", \"integer\"))\n",
    "\n",
    "table2.setAlignmentProviderForType(ColumnType.String, TableDisplayAlignmentProvider.CENTER_ALIGNMENT)\n",
    "table2.setAlignmentProviderForType(ColumnType.Double, TableDisplayAlignmentProvider.LEFT_ALIGNMENT)\n",
    "table2"
   ]
  },
  {
   "cell_type": "code",
   "execution_count": null,
   "metadata": {},
   "outputs": [],
   "source": [
    "// expected result of cell 2\n",
    "Image(\"../../resources/img/scala/tableAPI/cell2_case1.png\")"
   ]
  },
  {
   "cell_type": "markdown",
   "metadata": {},
   "source": [
    "# Bar Charts Renderer"
   ]
  },
  {
   "cell_type": "code",
   "execution_count": null,
   "metadata": {},
   "outputs": [],
   "source": [
    "// 3\n",
    "val table3 = new TableDisplay(new CSV().readFile(\"../../resources/data/interest-rates-small.csv\"))\n",
    "table3.setRendererForType(ColumnType.Double, TableDisplayCellRenderer.getDataBarsRenderer(true))\n",
    "// use the false parameter to hide value\n",
    "table3.setRendererForColumn(\"y10\", TableDisplayCellRenderer.getDataBarsRenderer(false))\n",
    "table3"
   ]
  },
  {
   "cell_type": "code",
   "execution_count": null,
   "metadata": {},
   "outputs": [],
   "source": [
    "// expected result of cell 3\n",
    "Image(\"../../resources/img/scala/tableAPI/cell3_case1.png\")"
   ]
  },
  {
   "cell_type": "code",
   "execution_count": null,
   "metadata": {},
   "outputs": [],
   "source": []
  },
  {
   "cell_type": "code",
   "execution_count": null,
   "metadata": {},
   "outputs": [],
   "source": []
  }
 ],
 "metadata": {
  "kernelspec": {
   "display_name": "Scala",
   "language": "scala",
   "name": "scala"
  },
  "language_info": {
   "codemirror_mode": "text/x-scala",
   "file_extension": ".scala",
   "mimetype": "",
   "name": "Scala",
   "nbconverter_exporter": "",
   "version": "2.11.12"
  },
  "toc": {
   "base_numbering": 1,
   "nav_menu": {},
   "number_sections": false,
   "sideBar": false,
   "skip_h1_title": false,
   "title_cell": "Table of Contents",
   "title_sidebar": "Contents",
   "toc_cell": false,
   "toc_position": {},
   "toc_section_display": false,
   "toc_window_display": false
  }
 },
 "nbformat": 4,
 "nbformat_minor": 2
}
