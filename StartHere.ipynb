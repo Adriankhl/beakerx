{
 "cells": [
  {
   "cell_type": "markdown",
   "metadata": {},
   "source": [
    "# Tutorials, Examples, and Demos\n",
    "\n",
    "[Jupyter](http://jupyter.org/) and [BeakerX](http://beakerx.com/) are based on the idea of the lab notebook, brought to life in your web browser. Each notebook is a place for recording the written ideas, data, images, spreadsheets, diagrams, equations, and especially code, that one produces in the course of research. You can analyze, visualize, and document data and science, using multiple programming languages.  BeakerX is an extension of Jupyter, including kernels for the JVM langauges, autotranslation between languages, interactive plots, tables, and more.\n",
    "\n",
    "This is a beta release. There are known issues, please see our [issue tracker](https://github.com/twosigma/beakerx/issues). Your [email feedback](mailto:beakerx-feedback@twosigma.com) is most welcome as it guides development and helps us improve.\n",
    "\n",
    "[The Jupyter documentation](http://jupyter-notebook.readthedocs.io/en/latest/examples/Notebook/Running%20Code.html) covers interacting with code cells, markdown, and notebooks. The tutorials below show the features of the BeakerX extension.\n",
    "\n",
    "### Languages\n",
    "[Groovy](groovy/main.ipynb), [Java](java/main.ipynb), [Scala](scala/main.ipynb), [Clojure](clojure/main.ipynb), [SQL](sql/main.ipynb), [Kotlin](kotlin/main.ipynb).\n",
    "\n",
    "### Magics\n",
    "[Timing](groovy/TimeExecutionMeasurementWithMagicCommands.ipynb), [Classpath and Imports](groovy/AddJarToClasspathMagicCommands.ipynb), [Properties, Heap Size and other JVM parameters](groovy/JavaArgs.ipynb), [Defining New Magics](groovy/LoadMagicCommand.ipynb).\n",
    "\n",
    "### Autotranslation\n",
    "[Python](python/AutoTranslation.ipynb), [Groovy](groovy/AutoTranslation.ipynb)\n",
    "\n",
    "### Groovy Plotting and Charting\n",
    "[Example and Interaction](groovy/ChartingTutorial.ipynb), [Time Series and General APIs and Features](groovy/PlotFeatures.ipynb), [Category Plots and Bar Charts](groovy/CategoryPlot.ipynb), [Levels of Detail](groovy/LevelsOfDetails.ipynb), [Histograms](groovy/Histogram.ipynb), [Heatmaps](groovy/Heatmap.ipynb), [Treemaps](groovy/Treemap.ipynb), [Plot Actions](groovy/PlotActions.ipynb), [Plot Seamless Updates](groovy/PlotsPythonStyle.ipynb), [Second Y Axis](groovy/2ndYaxis.ipynb).\n",
    "\n",
    "### Table Display\n",
    "[Groovy API including Actions](groovy/TableAPI.ipynb), [64-Bit Integers and BigNums](groovy/BigInts.ipynb), [Automatic Display of Simple Data Structures](groovy/MapLikeTable.ipynb), [Handling of Large Tables](groovy/BigTable.ipynb).\n",
    "\n",
    "### BeakerX Plotting in Other Languages\n",
    "[JavaScript](python/PlotJSAPI.ipynb), [Python](python/ChartingAPI.ipynb), [Scala](scala/Plot.ipynb).\n",
    "\n",
    "### Python\n",
    "\n",
    "[Tables including pandas integration](python/TableAPI.ipynb), [Time Series](python/ChartingAPI.ipynb), [Heatmaps](python/Heatmap.ipynb),  [Category Plots](python/CategoryPlot.ipynb), [Treemaps](python/Treemap.ipynb), [Histograms](python/Histogram.ipynb), [EasyForm](python/EasyForm.ipynb), [Output Containers](python/OutputContainersAndLayoutManagers.ipynb).\n",
    "\n",
    "### Scala\n",
    "[Tables](scala/TableAPI.ipynb), [Plotting](scala/Plot.ipynb), [EasyForm](scala/EasyForm.ipynb).\n",
    "\n",
    "### Media Outputs and Displayer Customization\n",
    "\n",
    "[Media and MIME Outputs](groovy/Mime.ipynb), [Display of Null](groovy/showNullExecutionResult.ipynb), [Custom Displayers and `jvm-repr`](groovy/JvmRepr.ipynb).\n",
    "\n",
    "### Forms, Widgets, and Interaction\n",
    "[EasyForm](groovy/EasyFormDemos.ipynb), [Output Containers and Layout Managers](groovy/OutputContainersAndLayoutManagers.ipynb), [Groovy interface to Jupyter JS Widgets](groovy/JavaWidgets.ipynb), [Interactive recomputation](groovy/interactive.ipynb).\n",
    "\n",
    "### Automation\n",
    "[Progress Reporting API](groovy/ProgressUpdateReporting.ipynb), [Initialization Cells](python/init-cells.ipynb), [Get Code](groovy/CodeCell.ipynb).\n",
    "\n",
    "### Tablesaw\n",
    "[Tablesaw](groovy/Tablesaw.ipynb) Pandas for the JVM.\n",
    "\n",
    "### Deeplearning4j and DataVec\n",
    "[DataVec, including automatic display](groovy/DataVec.ipynb).\n",
    "\n",
    "## Learn More\n",
    "On the web at the homepage [BeakerX.com](http://beakerx.com), on [GitHub](https://github.com/twosigma/beakerx), and on [Two Sigma's Open Source site](http://opensource.twosigma.com/).\n",
    "\n",
    "## Open Source\n",
    "BeakerX's full source code and documentation are available on [GitHub](https://github.com/twosigma/beakerx) under the Apache 2.0 license."
   ]
  },
  {
   "cell_type": "code",
   "execution_count": null,
   "metadata": {
    "collapsed": true
   },
   "outputs": [],
   "source": []
  }
 ],
 "metadata": {
  "kernelspec": {
   "display_name": "Python 3",
   "language": "python",
   "name": "python3"
  },
  "language_info": {
   "codemirror_mode": {
    "name": "ipython",
    "version": 3
   },
   "file_extension": ".py",
   "mimetype": "text/x-python",
   "name": "python",
   "nbconvert_exporter": "python",
   "pygments_lexer": "ipython3",
   "version": "3.5.4"
  }
 },
 "nbformat": 4,
 "nbformat_minor": 2
}
